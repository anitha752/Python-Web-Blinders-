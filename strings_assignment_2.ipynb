{
  "cells": [
    {
      "cell_type": "markdown",
      "metadata": {
        "id": "EPGLodluvWuN"
      },
      "source": [
        "## Strings Assignment 2"
      ]
    },
    {
      "cell_type": "markdown",
      "metadata": {
        "id": "ddM5gMtivkoi"
      },
      "source": [
        "1.Write a Python program to reverse a string.\n",
        "\n",
        "input : hellohowareyoudoingandhowisyourhealth"
      ]
    },
    {
      "cell_type": "code",
      "execution_count": 2,
      "metadata": {
        "id": "RnP576ZZvtLH"
      },
      "outputs": [
        {
          "name": "stdout",
          "output_type": "stream",
          "text": [
            "Reversed string: htlaehruoysiwohdnagnioduoyerawoholleh\n"
          ]
        }
      ],
      "source": [
        "# write your code here\n",
        "input_string = \"hellohowareyoudoingandhowisyourhealth\"\n",
        "reversed_string = input_string[::-1]\n",
        "print(\"Reversed string:\", reversed_string)\n"
      ]
    },
    {
      "cell_type": "markdown",
      "metadata": {
        "id": "jEVFoo3evnhr"
      },
      "source": [
        "2.Write a Python program to capitalize the first letter of each word in a sentence.\n",
        "\n",
        "input : hello welcome to internship"
      ]
    },
    {
      "cell_type": "code",
      "execution_count": 3,
      "metadata": {
        "id": "CTP3QwiGwT93"
      },
      "outputs": [
        {
          "name": "stdout",
          "output_type": "stream",
          "text": [
            "Capitalized sentence: Hello Welcome To Internship\n"
          ]
        }
      ],
      "source": [
        "# write your code here\n",
        "sentence = \"hello welcome to internship\"\n",
        "capitalized_sentence = sentence.title()\n",
        "print(\"Capitalized sentence:\", capitalized_sentence)\n"
      ]
    },
    {
      "cell_type": "markdown",
      "metadata": {
        "id": "LiGvyCoVvnyC"
      },
      "source": [
        "3.Write a Python program to find the longest word in a sentence.\n",
        "\n",
        "input : \"he is very good at painting and paint good sketches\""
      ]
    },
    {
      "cell_type": "code",
      "execution_count": 4,
      "metadata": {
        "id": "clATuC3cwwPI"
      },
      "outputs": [
        {
          "name": "stdout",
          "output_type": "stream",
          "text": [
            "Longest word: painting\n"
          ]
        }
      ],
      "source": [
        "# write your code here\n",
        "sentence = \"he is very good at painting and paint good sketches\"\n",
        "words = sentence.split()\n",
        "longest_word = max(words, key=len)\n",
        "print(\"Longest word:\", longest_word)\n"
      ]
    },
    {
      "cell_type": "markdown",
      "metadata": {
        "id": "-QhCplQjvn0w"
      },
      "source": [
        "4.Write a Python program to find the length of the last word in a sentence.\n",
        "\n",
        "input : this is the most beautiful beach I ever visited"
      ]
    },
    {
      "cell_type": "code",
      "execution_count": 5,
      "metadata": {
        "id": "QwzbahlkxGZ-"
      },
      "outputs": [
        {
          "name": "stdout",
          "output_type": "stream",
          "text": [
            "Length of the last word: 7\n"
          ]
        }
      ],
      "source": [
        "# write your code here\n",
        "sentence = \"this is the most beautiful beach I ever visited\"\n",
        "words = sentence.split()\n",
        "last_word_length = len(words[-1]) if words else 0\n",
        "print(\"Length of the last word:\", last_word_length)\n"
      ]
    },
    {
      "cell_type": "markdown",
      "metadata": {
        "id": "cZiXxZhsvn6q"
      },
      "source": [
        "5.Write a Python program to find the second most frequent character in a string.\n",
        "\n",
        "input: the hospital is very big and this hospital has so many doctors"
      ]
    },
    {
      "cell_type": "code",
      "execution_count": 6,
      "metadata": {
        "id": "EnHquuoCxi7F"
      },
      "outputs": [
        {
          "name": "stdout",
          "output_type": "stream",
          "text": [
            "Second most frequent character: t\n"
          ]
        }
      ],
      "source": [
        "# write your code here\n",
        "from collections import Counter\n",
        "\n",
        "input_string = \"the hospital is very big and this hospital has so many doctors\"\n",
        "cleaned_string = input_string.replace(\" \", \"\")\n",
        "char_count = Counter(cleaned_string)\n",
        "sorted_char_count = char_count.most_common()\n",
        "\n",
        "if len(sorted_char_count) > 1:\n",
        "    second_most_frequent = sorted_char_count[1][0]\n",
        "    print(\"Second most frequent character:\", second_most_frequent)\n",
        "else:\n",
        "    print(\"No second most frequent character found.\")\n"
      ]
    }
  ],
  "metadata": {
    "colab": {
      "provenance": [],
      "toc_visible": true
    },
    "kernelspec": {
      "display_name": "base",
      "language": "python",
      "name": "python3"
    },
    "language_info": {
      "codemirror_mode": {
        "name": "ipython",
        "version": 3
      },
      "file_extension": ".py",
      "mimetype": "text/x-python",
      "name": "python",
      "nbconvert_exporter": "python",
      "pygments_lexer": "ipython3",
      "version": "3.9.12"
    }
  },
  "nbformat": 4,
  "nbformat_minor": 0
}
