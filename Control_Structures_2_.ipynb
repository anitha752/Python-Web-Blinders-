{
  "cells": [
    {
      "cell_type": "markdown",
      "metadata": {
        "id": "LntIlHO5OfPf"
      },
      "source": [
        "*** USE THE CONCEPT OF LOOPS TO SOLVE THE BELOW PROGRAMS***"
      ]
    },
    {
      "cell_type": "markdown",
      "metadata": {
        "id": "vxHfbNtoOfRV"
      },
      "source": [
        "1) Python program to count the total number of digits in a number.\n",
        "\n",
        "TAKE THE INPUT NUMBER : 123456\n",
        "\n",
        "\n",
        "\n"
      ]
    },
    {
      "cell_type": "code",
      "execution_count": 1,
      "metadata": {
        "id": "_PKg5umLO2-q"
      },
      "outputs": [
        {
          "name": "stdout",
          "output_type": "stream",
          "text": [
            "Total number of digits: 6\n"
          ]
        }
      ],
      "source": [
        "#wRITE YOUR CODE HERE\n",
        "\n",
        "num = 123456  \n",
        "\n",
        "# Convert the number to a string and find its length\n",
        "digit_count = len(str(num))\n",
        "\n",
        "# Print the result\n",
        "print(\"Total number of digits:\", digit_count)\n"
      ]
    },
    {
      "cell_type": "markdown",
      "metadata": {
        "id": "bXf8Z8feOfTn"
      },
      "source": [
        "2) Python program to count the number of even and odd numbers from a series of numbers.\n",
        "\n",
        "num_list = [1,3,5,6,99,134,55]"
      ]
    },
    {
      "cell_type": "code",
      "execution_count": 2,
      "metadata": {
        "id": "QzZjjwRCPIip"
      },
      "outputs": [
        {
          "name": "stdout",
          "output_type": "stream",
          "text": [
            "Total even numbers: 2\n",
            "Total odd numbers: 5\n"
          ]
        }
      ],
      "source": [
        "#WRITE YOUR CODE HERE\n",
        "# Given list of numbers\n",
        "num_list = [1, 3, 5, 6, 99, 134, 55]\n",
        "\n",
        "# Initialize counters\n",
        "even_count = 0\n",
        "odd_count = 0\n",
        "\n",
        "# Loop through the list\n",
        "for num in num_list:\n",
        "    if num % 2 == 0:\n",
        "        even_count += 1\n",
        "    else:\n",
        "        odd_count += 1\n",
        "\n",
        "# Print the results\n",
        "print(\"Total even numbers:\", even_count)\n",
        "print(\"Total odd numbers:\", odd_count)\n"
      ]
    },
    {
      "cell_type": "markdown",
      "metadata": {
        "id": "Ae6CdE7hOfWZ"
      },
      "source": [
        "3) Python program to get the Fibonacci series between 0 to 50."
      ]
    },
    {
      "cell_type": "code",
      "execution_count": 3,
      "metadata": {
        "id": "_IIZYCLPPTwI"
      },
      "outputs": [
        {
          "name": "stdout",
          "output_type": "stream",
          "text": [
            "Fibonacci series between 0 to 50:\n",
            "0 1 1 2 3 5 8 13 21 34 \n"
          ]
        }
      ],
      "source": [
        "#WRITE YOUR CODE HERE\n",
        "# Initialize the first two Fibonacci numbers\n",
        "a, b = 0, 1\n",
        "\n",
        "# Print Fibonacci series up to 50\n",
        "print(\"Fibonacci series between 0 to 50:\")\n",
        "while a <= 50:\n",
        "    print(a, end=\" \")\n",
        "    a, b = b, a + b  # Update values\n",
        "\n",
        "print()  # Newline after the series\n"
      ]
    },
    {
      "cell_type": "markdown",
      "metadata": {
        "id": "VYbquVMROfZz"
      },
      "source": [
        "4) Python program that accepts a string and calculates the number of digits and letters.\n",
        "\n",
        "Input\n",
        "\n",
        "WEBBLINDERS1234"
      ]
    },
    {
      "cell_type": "code",
      "execution_count": 4,
      "metadata": {
        "id": "iGYeja7XPop3"
      },
      "outputs": [
        {
          "name": "stdout",
          "output_type": "stream",
          "text": [
            "Total letters: 11\n",
            "Total digits: 4\n"
          ]
        }
      ],
      "source": [
        "#WRITE YOUR CODE HERE\n",
        "# Take input string\n",
        "input_str = \"WEBBLINDERS1234\"\n",
        "\n",
        "# Initialize counters\n",
        "letter_count = 0\n",
        "digit_count = 0\n",
        "\n",
        "# Loop through each character in the string\n",
        "for char in input_str:\n",
        "    if char.isalpha():  # Check if it's a letter\n",
        "        letter_count += 1\n",
        "    elif char.isdigit():  # Check if it's a digit\n",
        "        digit_count += 1\n",
        "\n",
        "# Print the results\n",
        "print(\"Total letters:\", letter_count)\n",
        "print(\"Total digits:\", digit_count)\n"
      ]
    },
    {
      "cell_type": "markdown",
      "metadata": {
        "id": "RiVenPeDPqs_"
      },
      "source": [
        "5) Python program to display all numbers within a range except the prime numbers.\n",
        "\n",
        "INPUT RANGE : 30 TO 80"
      ]
    },
    {
      "cell_type": "code",
      "execution_count": 5,
      "metadata": {
        "id": "UTm21ayAPX02"
      },
      "outputs": [
        {
          "name": "stdout",
          "output_type": "stream",
          "text": [
            "Numbers from 30 to 80 except prime numbers:\n",
            "30 32 33 34 35 36 38 39 40 42 44 45 46 48 49 50 51 52 54 55 56 57 58 60 62 63 64 65 66 68 69 70 72 74 75 76 77 78 80 \n"
          ]
        }
      ],
      "source": [
        "#WRITE YOUR CODE HERE\n",
        "# Function to check if a number is prime\n",
        "def is_prime(n):\n",
        "    if n < 2:\n",
        "        return False\n",
        "    for i in range(2, int(n ** 0.5) + 1):\n",
        "        if n % i == 0:\n",
        "            return False\n",
        "    return True\n",
        "\n",
        "# Define the range\n",
        "start, end = 30, 80\n",
        "\n",
        "# Print numbers except prime numbers\n",
        "print(f\"Numbers from {start} to {end} except prime numbers:\")\n",
        "for num in range(start, end + 1):\n",
        "    if not is_prime(num):\n",
        "        print(num, end=\" \")\n",
        "\n",
        "print()  # Newline after output\n"
      ]
    }
  ],
  "metadata": {
    "colab": {
      "provenance": []
    },
    "kernelspec": {
      "display_name": "base",
      "language": "python",
      "name": "python3"
    },
    "language_info": {
      "codemirror_mode": {
        "name": "ipython",
        "version": 3
      },
      "file_extension": ".py",
      "mimetype": "text/x-python",
      "name": "python",
      "nbconvert_exporter": "python",
      "pygments_lexer": "ipython3",
      "version": "3.9.12"
    }
  },
  "nbformat": 4,
  "nbformat_minor": 0
}
