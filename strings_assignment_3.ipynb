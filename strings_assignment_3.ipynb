{
  "cells": [
    {
      "cell_type": "markdown",
      "metadata": {
        "id": "q8RkYTES1QUW"
      },
      "source": [
        "1.Write a Python program to count the number of vowels in a string.\n",
        "\n",
        "input : hasdfgeuionhjl"
      ]
    },
    {
      "cell_type": "code",
      "execution_count": 4,
      "metadata": {
        "id": "UHi6ezjV1X0s"
      },
      "outputs": [
        {
          "name": "stdout",
          "output_type": "stream",
          "text": [
            "5\n"
          ]
        }
      ],
      "source": [
        "# write your code here\n",
        "input_string = \"hasdfgeuionhjl\"\n",
        "vowels = \"aeiou\"\n",
        "vowel_count = sum(1 for char in input_string if char in vowels)\n",
        "print(vowel_count)\n"
      ]
    },
    {
      "cell_type": "markdown",
      "metadata": {
        "id": "v7GBEK161QWy"
      },
      "source": [
        "2.Write a Python program to count the occurrences of each word in a sentence.\n",
        "\n",
        "input : hi hello hi and and hi more and more programming"
      ]
    },
    {
      "cell_type": "code",
      "execution_count": 5,
      "metadata": {
        "id": "R-UzDybK1uZo"
      },
      "outputs": [
        {
          "name": "stdout",
          "output_type": "stream",
          "text": [
            "Word occurrences:\n",
            "hi: 3\n",
            "hello: 1\n",
            "and: 3\n",
            "more: 2\n",
            "programming: 1\n"
          ]
        }
      ],
      "source": [
        "# write your code here\n",
        "sentence = \"hi hello hi and and hi more and more programming\"\n",
        "words = sentence.split()\n",
        "word_count = {}\n",
        "for word in words:\n",
        "    word_count[word] = word_count.get(word, 0) + 1\n",
        "\n",
        "print(\"Word occurrences:\")\n",
        "for word, count in word_count.items():\n",
        "    print(f\"{word}: {count}\")\n"
      ]
    },
    {
      "cell_type": "markdown",
      "metadata": {
        "id": "evCcw-0H1QY9"
      },
      "source": [
        "3.In python how can you differentiate strings and lists. Give atleast 5 different comparisons between them."
      ]
    },
    {
      "cell_type": "markdown",
      "metadata": {
        "id": "OfiTI0pv1QbU"
      },
      "source": [
        "Answer:\n",
        "\n",
        "1. Data Type\n",
        "String: A sequence of characters. It is a single data type.\n",
        "List: A collection that can store multiple data types (e.g., integers, strings, floats).\n",
        "2. Mutability\n",
        "String: Immutable. Once created, it cannot be modified.\n",
        "List: Mutable. Items can be modified, added, or removed.\n",
        "3. Element Type\n",
        "String: Each element is always a single character.\n",
        "List: Elements can be of any data type.\n",
        "4. Concatenation\n",
        "String: Concatenation is done with the + operator.\n",
        "List: Concatenation is also done with +, but it combines the elements of both lists.\n",
        "5. Slicing\n",
        "String: Returns a substring.\n",
        "List: Returns a sublist.\n",
        "\n"
      ]
    },
    {
      "cell_type": "markdown",
      "metadata": {
        "id": "riR1PWxG1Qdq"
      },
      "source": [
        "4.Write a string for your own of approximately 40 in length and perform any 5 different string operations on that."
      ]
    },
    {
      "cell_type": "code",
      "execution_count": 6,
      "metadata": {
        "id": "3bHyrDS12e8i"
      },
      "outputs": [
        {
          "name": "stdout",
          "output_type": "stream",
          "text": [
            "Length of the string: 42\n",
            "Uppercase string: PYTHON PROGRAMMING IS FUN AND EDUCATIONAL!\n",
            "Occurrences of 'a': 4\n",
            "Does the string end with 'educational!': True\n",
            "String after replacement: Python programming is exciting and educational!\n"
          ]
        }
      ],
      "source": [
        "#Write your code here\n",
        "my_string = \"Python programming is fun and educational!\"\n",
        "length = len(my_string)\n",
        "print(\"Length of the string:\", length)\n",
        "uppercase_string = my_string.upper()\n",
        "print(\"Uppercase string:\", uppercase_string)\n",
        "count_a = my_string.count('a')\n",
        "print(\"Occurrences of 'a':\", count_a)\n",
        "ends_with = my_string.endswith(\"educational!\")\n",
        "print(\"Does the string end with 'educational!':\", ends_with)\n",
        "replaced_string = my_string.replace(\"fun\", \"exciting\")\n",
        "print(\"String after replacement:\", replaced_string)\n",
        "\n"
      ]
    },
    {
      "cell_type": "markdown",
      "metadata": {
        "id": "bbUm7VVN1Qfu"
      },
      "source": [
        "5.Explain the concatination in strings with a neat example."
      ]
    },
    {
      "cell_type": "code",
      "execution_count": 7,
      "metadata": {
        "id": "y9292Q452tF0"
      },
      "outputs": [
        {
          "name": "stdout",
          "output_type": "stream",
          "text": [
            "I love Python\n"
          ]
        }
      ],
      "source": [
        "#write your code and explanation here\n",
        "part1 = \"I\"\n",
        "part2 = \"love\"\n",
        "part3 = \"Python\"\n",
        "\n",
        "sentence = part1 + \" \" + part2 + \" \" + part3\n",
        "print(sentence)\n"
      ]
    },
    {
      "cell_type": "code",
      "execution_count": null,
      "metadata": {
        "id": "vnMNtJgq2xuG"
      },
      "outputs": [],
      "source": []
    }
  ],
  "metadata": {
    "colab": {
      "provenance": []
    },
    "kernelspec": {
      "display_name": "base",
      "language": "python",
      "name": "python3"
    },
    "language_info": {
      "codemirror_mode": {
        "name": "ipython",
        "version": 3
      },
      "file_extension": ".py",
      "mimetype": "text/x-python",
      "name": "python",
      "nbconvert_exporter": "python",
      "pygments_lexer": "ipython3",
      "version": "3.9.12"
    }
  },
  "nbformat": 4,
  "nbformat_minor": 0
}
